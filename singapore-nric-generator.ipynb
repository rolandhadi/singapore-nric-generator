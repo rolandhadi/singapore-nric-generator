{
    "cells": [
        {
            "cell_type": "markdown",
            "source": [
                "singapore-nric-generator demonstration"
            ],
            "metadata": {}
        },
        {
            "cell_type": "code",
            "execution_count": 7,
            "source": [
                "import random\r\n",
                "\r\n",
                "# doc_type: \"NRIC\" or \"FIN\", default is \"NRIC\"\r\n",
                "def generate_singapore_nric(doc_type=\"NRIC\"):\r\n",
                "    first_letter = \"S\"\r\n",
                "    if \"FIN\" in doc_type:\r\n",
                "        first_letter = \"G\"\r\n",
                "    num = \"0000000\" + str(random.randrange(1, 9999999))\r\n",
                "    num = num[-7:]\r\n",
                "    chars = [x for x in num]\r\n",
                "    output = first_letter + num\r\n",
                "    chars[0] = str(int(chars[0]) * 2)\r\n",
                "    chars[1] = str(int(chars[1]) * 7)\r\n",
                "    chars[2] = str(int(chars[2]) * 6)\r\n",
                "    chars[3] = str(int(chars[3]) * 5)\r\n",
                "    chars[4] = str(int(chars[4]) * 4)\r\n",
                "    chars[5] = str(int(chars[5]) * 3)\r\n",
                "    chars[6] = str(int(chars[6]) * 2)\r\n",
                "    sum_value = 0\r\n",
                "    i = 0\r\n",
                "    while i <= 6:\r\n",
                "        sum_value += int(chars[i])\r\n",
                "        i += 1\r\n",
                "    offset = 4 if (first_letter == \"T\" or first_letter == \"G\") else 0\r\n",
                "    temp = (offset + sum_value) % 11\r\n",
                "    st = [\"J\", \"Z\", \"I\", \"H\", \"G\", \"F\", \"E\", \"D\", \"C\", \"B\", \"A\"]\r\n",
                "    fg = [\"X\", \"W\", \"U\", \"T\", \"R\", \"Q\", \"P\", \"N\", \"M\", \"L\", \"K\"]\r\n",
                "    the_alpha = \"?\"\r\n",
                "    if first_letter == \"S\" or first_letter == \"T\":\r\n",
                "        the_alpha = st[temp]\r\n",
                "    if first_letter == \"F\" or first_letter == \"G\":\r\n",
                "        the_alpha = fg[temp]\r\n",
                "    return output + the_alpha"
            ],
            "outputs": [],
            "metadata": {}
        },
        {
            "cell_type": "markdown",
            "source": [
                "Generate new unique NRIC number"
            ],
            "metadata": {}
        },
        {
            "cell_type": "code",
            "execution_count": 8,
            "source": [
                "print(generate_singapore_nric())"
            ],
            "outputs": [
                {
                    "output_type": "stream",
                    "name": "stdout",
                    "text": [
                        "S8280180D\n"
                    ]
                }
            ],
            "metadata": {}
        },
        {
            "cell_type": "markdown",
            "source": [
                "Generate new unique FIN number"
            ],
            "metadata": {}
        },
        {
            "cell_type": "code",
            "execution_count": 9,
            "source": [
                "print(generate_singapore_nric(\"FIN\"))"
            ],
            "outputs": [
                {
                    "output_type": "stream",
                    "name": "stdout",
                    "text": [
                        "G7095020R\n"
                    ]
                }
            ],
            "metadata": {}
        }
    ],
    "metadata": {
        "orig_nbformat": 4,
        "language_info": {
            "name": "python",
            "version": "3.8.8",
            "mimetype": "text/x-python",
            "codemirror_mode": {
                "name": "ipython",
                "version": 3
            },
            "pygments_lexer": "ipython3",
            "nbconvert_exporter": "python",
            "file_extension": ".py"
        },
        "kernelspec": {
            "name": "python3",
            "display_name": "Python 3.8.8 64-bit"
        },
        "interpreter": {
            "hash": "839880c68ea649a4468cbd271d0f96e859ee6f9cdb68f73f960211c99612acfe"
        }
    },
    "nbformat": 4,
    "nbformat_minor": 2
}